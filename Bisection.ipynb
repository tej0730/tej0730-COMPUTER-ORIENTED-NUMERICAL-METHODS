{
  "nbformat": 4,
  "nbformat_minor": 0,
  "metadata": {
    "colab": {
      "provenance": [],
      "authorship_tag": "ABX9TyOh54kLeg5Q9pLrp6kAkchh",
      "include_colab_link": true
    },
    "kernelspec": {
      "name": "python3",
      "display_name": "Python 3"
    },
    "language_info": {
      "name": "python"
    }
  },
  "cells": [
    {
      "cell_type": "markdown",
      "metadata": {
        "id": "view-in-github",
        "colab_type": "text"
      },
      "source": [
        "<a href=\"https://colab.research.google.com/github/tej0730/tej0730-COMPUTER-ORIENTED-NUMERICAL-METHODS/blob/main/Bisection.ipynb\" target=\"_parent\"><img src=\"https://colab.research.google.com/assets/colab-badge.svg\" alt=\"Open In Colab\"/></a>"
      ]
    },
    {
      "cell_type": "code",
      "execution_count": null,
      "metadata": {
        "colab": {
          "base_uri": "https://localhost:8080/"
        },
        "id": "NmXk1Gxi4FN8",
        "outputId": "50d6ceb8-f2b1-4ae5-8129-48f795540150"
      },
      "outputs": [
        {
          "output_type": "stream",
          "name": "stdout",
          "text": [
            "Enter a: 2.707\n",
            "Enter b: 2.706\n",
            "Enter e: 0.0001\n",
            "[2.7065, 2.70675]\n",
            "[2.7065, 2.70675, 2.706625]\n",
            "Root of the equation is: 2.7065625\n",
            "Number of iterations: 3\n"
          ]
        }
      ],
      "source": [
        "def f(num):\n",
        "    return num**3 - 4*num - 9\n",
        "\n",
        "c = []\n",
        "k = 1\n",
        "a = float(input(\"Enter a: \"))\n",
        "b = float(input(\"Enter b: \"))\n",
        "e = float(input(\"Enter e: \"))\n",
        "c.append((a + b) / 2)\n",
        "\n",
        "while True:\n",
        "    if f(a) * f(c[-1]) < 0:\n",
        "        b = c[-1]\n",
        "    elif f(a) * f(c[-1]) > 0:\n",
        "        a = c[-1]\n",
        "    else:\n",
        "        break\n",
        "\n",
        "    c.append((a + b) / 2)\n",
        "\n",
        "    if abs(c[-1] - c[-2]) < e:\n",
        "        break\n",
        "    else:\n",
        "        k += 1\n",
        "\n",
        "    if len(c) >= 2 and c[-1] != c[-2]:\n",
        "        print(c)\n",
        "\n",
        "print(\"Root of the equation is:\", c[-1])\n",
        "print(\"Number of iterations:\", k)"
      ]
    },
    {
      "cell_type": "code",
      "source": [
        "# prompt: create code for bisection method and display it in a tabular form dont use inbuilt function for tabular display pattern\n",
        "\n",
        "def f(num):\n",
        "    return num**3 - 4*num - 9\n",
        "\n",
        "a = float(input(\"Enter a: \"))\n",
        "b = float(input(\"Enter b: \"))\n",
        "e = float(input(\"Enter e: \"))\n",
        "\n",
        "# Print header of the table\n",
        "print(\"-\" * 40)\n",
        "print(\"|{:^8}|{:^8}|{:^8}|{:^8}|\".format(\"a\", \"b\", \"c\", \"f(c)\"))\n",
        "print(\"-\" * 40)\n",
        "\n",
        "k = 1\n",
        "c = (a + b) / 2\n",
        "while True:\n",
        "    fc = f(c)\n",
        "    print(\"|{:8.4f}|{:8.4f}|{:8.4f}|{:8.4f}|\".format(a, b, c, fc))\n",
        "\n",
        "    if f(a) * fc < 0:\n",
        "        b = c\n",
        "    else:\n",
        "        a = c\n",
        "\n",
        "    c_prev = c\n",
        "    c = (a + b) / 2\n",
        "\n",
        "    if abs(c - c_prev) < e:\n",
        "        break\n",
        "\n",
        "    k += 1\n",
        "\n",
        "print(\"-\" * 40)\n",
        "print(\"Root of the equation is:\", c)\n",
        "print(\"Number of iterations:\", k)\n"
      ],
      "metadata": {
        "colab": {
          "base_uri": "https://localhost:8080/"
        },
        "id": "pnV-7Tds5QJ0",
        "outputId": "1a43d0be-d406-4b6f-a4da-056e2a32b81f"
      },
      "execution_count": null,
      "outputs": [
        {
          "output_type": "stream",
          "name": "stdout",
          "text": [
            "Enter a: 2.707\n",
            "Enter b: 2.706\n",
            "Enter e: 0.0001\n",
            "----------------------------------------\n",
            "|   a    |   b    |   c    |  f(c)  |\n",
            "----------------------------------------\n",
            "|  2.7070|  2.7060|  2.7065| -0.0005|\n",
            "|  2.7070|  2.7065|  2.7067|  0.0040|\n",
            "|  2.7067|  2.7065|  2.7066|  0.0017|\n",
            "----------------------------------------\n",
            "Root of the equation is: 2.7065625\n",
            "Number of iterations: 3\n"
          ]
        }
      ]
    },
    {
      "cell_type": "code",
      "source": [],
      "metadata": {
        "id": "ug1Ro1puG1Q2"
      },
      "execution_count": null,
      "outputs": []
    },
    {
      "cell_type": "code",
      "source": [
        "# prompt: generate code to display secant method (in this round of to 4digits)\n",
        "\n",
        "def f(num):\n",
        "    return num**3 - 4*num - 9\n",
        "\n",
        "a = float(input(\"Enter a: \"))\n",
        "b = float(input(\"Enter b: \"))\n",
        "e = float(input(\"Enter e: \"))\n",
        "\n",
        "# Print header of the table\n",
        "print(\"-\" * 53)\n",
        "print(\"|{:^8}|{:^8}|{:^12}|{:^12}|{:^8}|\".format(\"a\", \"b\", \"c\", \"f(c)\", \"|c(i)-c(i-1)|\"))\n",
        "print(\"-\" * 53)\n",
        "\n",
        "k = 1\n",
        "c = b - (f(b)*(b - a))/(f(b) - f(a))\n",
        "c_prev = a  # Initialize c_prev for the first iteration\n",
        "while True:\n",
        "    fc = f(c)\n",
        "    diff = abs(c - c_prev)\n",
        "    print(\"|{:8.4f}|{:8.4f}|{:12.4f}|{:12.4f}|{:8.4f}|\".format(a, b, c, fc, diff))\n",
        "\n",
        "    a = b\n",
        "    b = c\n",
        "    c_prev = c  # Store the previous value of c\n",
        "    c = b - (f(b)*(b - a))/(f(b) - f(a))\n",
        "\n",
        "    if abs(c - c_prev) < e:\n",
        "        break\n",
        "\n",
        "    k += 1\n",
        "\n",
        "print(\"-\" * 53)\n",
        "print(\"Root of the equation is: {:.4f}\".format(c))\n",
        "print(\"Number of iterations:\", k)\n"
      ],
      "metadata": {
        "colab": {
          "base_uri": "https://localhost:8080/"
        },
        "id": "POZG_TLO62Dc",
        "outputId": "efa6c369-3231-4c31-fe17-048d7c7dfe85"
      },
      "execution_count": null,
      "outputs": [
        {
          "output_type": "stream",
          "name": "stdout",
          "text": [
            "Enter x0: 1\n",
            "Enter x1: 1.5\n",
            "Enter e: 0.001\n",
            "-------------------------------------------------------\n",
            "| x(i-1) |  x(i)  | f(x(i-1))  |  f(x(i))   | x(i+1) |\n",
            "-------------------------------------------------------\n",
            "|  1.0000|  1.5000|     -1.0000|      0.8750|  1.2667|\n",
            "|  1.5000|  1.2667|      0.8750|     -0.2344|  1.3160|\n",
            "|  1.2667|  1.3160|     -0.2344|     -0.0370|  1.3252|\n",
            "|  1.3160|  1.3252|     -0.0370|      0.0021|  1.3247|\n",
            "-------------------------------------------------------\n",
            "Root of the equation is: 1.3247138858183092\n",
            "Number of iterations: 4\n"
          ]
        }
      ]
    }
  ]
}